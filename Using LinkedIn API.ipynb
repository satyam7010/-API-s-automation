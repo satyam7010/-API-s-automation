{
 "cells": [
  {
   "cell_type": "code",
   "execution_count": null,
   "id": "a3e9828e",
   "metadata": {},
   "outputs": [],
   "source": [
    "import linkedin\n",
    "\n",
    "# Authenticate with LinkedIn API\n",
    "client = linkedin.LinkedInDeveloperProgramClient(token=API_TOKEN) \n",
    "\n",
    "# Take first and last name as input\n",
    "first_name = input(\"Enter first name: \")\n",
    "last_name = input(\"Enter last name: \")\n",
    "\n",
    "# Search for people matching name on LinkedIn \n",
    "results = client.search_people(first_name + \" \" + last_name, network='S')\n",
    "\n",
    "# Extract details of first 5 profiles\n",
    "profiles = results[:5]\n",
    "\n",
    "# Extract relevant details like name, headline, location etc. \n",
    "details = [(p.first_name, p.last_name, p.headline, p.location_name) for p in profiles]\n",
    "\n",
    "# Write details to CSV file\n",
    "import csv\n",
    "with open('output.csv', 'w') as f:\n",
    "    writer = csv.writer(f)\n",
    "    writer.writerow(['First Name', 'Last Name', 'Headline', 'Location']) \n",
    "    writer.writerows(details)\n"
   ]
  }
 ],
 "metadata": {
  "kernelspec": {
   "display_name": "Python 3 (ipykernel)",
   "language": "python",
   "name": "python3"
  },
  "language_info": {
   "codemirror_mode": {
    "name": "ipython",
    "version": 3
   },
   "file_extension": ".py",
   "mimetype": "text/x-python",
   "name": "python",
   "nbconvert_exporter": "python",
   "pygments_lexer": "ipython3",
   "version": "3.10.9"
  }
 },
 "nbformat": 4,
 "nbformat_minor": 5
}
